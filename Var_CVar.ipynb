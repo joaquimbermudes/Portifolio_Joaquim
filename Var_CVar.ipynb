{
  "nbformat": 4,
  "nbformat_minor": 0,
  "metadata": {
    "colab": {
      "provenance": []
    },
    "kernelspec": {
      "name": "python3",
      "display_name": "Python 3"
    },
    "language_info": {
      "name": "python"
    }
  },
  "cells": [
    {
      "cell_type": "markdown",
      "source": [
        "# **Var & CVar**"
      ],
      "metadata": {
        "id": "sLMxVAYovWij"
      }
    },
    {
      "cell_type": "code",
      "execution_count": 1,
      "metadata": {
        "id": "PCWKJ8_mr-tc"
      },
      "outputs": [],
      "source": [
        "# Importando bibliotecas\n",
        "import yfinance as yf\n",
        "import numpy as np\n",
        "import pandas as pd"
      ]
    },
    {
      "cell_type": "code",
      "source": [
        "# Baixar os dados históricos da ação\n",
        "\n",
        "ticker = \"AAPL\"  # Símbolo da ação (Apple, como exemplo)\n",
        "start_date = \"2020-01-01\"\n",
        "end_date = \"2023-01-01\"\n",
        "data = yf.download(ticker, start=start_date, end=end_date)\n",
        "\n",
        "# Calcular os retornos diários\n",
        "data = data['Close'].pct_change()\n",
        "data = data['AAPL'].dropna().values"
      ],
      "metadata": {
        "colab": {
          "base_uri": "https://localhost:8080/"
        },
        "id": "86mOGVafsz4J",
        "outputId": "ca725cb3-91e0-493b-86bc-63d8b328f9ca"
      },
      "execution_count": 2,
      "outputs": [
        {
          "output_type": "stream",
          "name": "stderr",
          "text": [
            "\r[*********************100%***********************]  1 of 1 completed\n"
          ]
        }
      ]
    },
    {
      "cell_type": "markdown",
      "source": [
        "##Fórmula do Value at Risk (VaR)\n",
        "\n",
        "$$\n",
        "VaR_{\\alpha} = \\inf ( l \\in R : P(L \\leq l) \\geq \\alpha)\n",
        "$$\n",
        "\n",
        "## Fórmula do Conditional Value at Risk (CVaR)\n",
        "\n",
        "$$\n",
        "CVaR_{\\alpha} = E(L \\mid L \\leq VaR_{\\alpha})\n",
        "$$"
      ],
      "metadata": {
        "id": "9Qpfim9avx_Z"
      }
    },
    {
      "cell_type": "code",
      "source": [
        "# Função para calcular o VaR e CVaR\n",
        "def calculate_var_cvar(returns, confidence_level=0.95):\n",
        "\n",
        "    # Ordenar os retornos de forma ascendente\n",
        "    sorted_returns = np.sort(returns)\n",
        "\n",
        "    # Índice correspondente ao VaR no nível de confiança\n",
        "    var_index = int((1 - confidence_level) * len(sorted_returns))\n",
        "\n",
        "    # Calcular o VaR\n",
        "    var = sorted_returns[var_index]\n",
        "\n",
        "    # Calcular o CVaR como a média dos retornos abaixo do VaR\n",
        "    cvar = np.mean(sorted_returns[sorted_returns <= var])\n",
        "\n",
        "    return var, cvar"
      ],
      "metadata": {
        "id": "5CV2HkKBswqK"
      },
      "execution_count": 3,
      "outputs": []
    },
    {
      "cell_type": "code",
      "source": [
        "# Definir o nível de confiança\n",
        "confidence_level = 0.95\n",
        "\n",
        "# Calcular o VaR e CVaR\n",
        "var, cvar = calculate_var_cvar(data, confidence_level=confidence_level)\n",
        "\n",
        "# Exibir os resultados\n",
        "print(f\"Resultados para a ação {ticker} ({start_date} a {end_date}):\")\n",
        "print(f\"Nível de confiança: {confidence_level * 100}%\")\n",
        "print(f\"Value at Risk (VaR): {var:.2%}\")\n",
        "print(f\"Conditional Value at Risk (CVaR): {cvar:.2%}\")"
      ],
      "metadata": {
        "colab": {
          "base_uri": "https://localhost:8080/"
        },
        "id": "7H8SG284s5qv",
        "outputId": "0c310d1e-93b5-4bbb-eb5e-389cde20565d"
      },
      "execution_count": 4,
      "outputs": [
        {
          "output_type": "stream",
          "name": "stdout",
          "text": [
            "Resultados para a ação AAPL (2020-01-01 a 2023-01-01):\n",
            "Nível de confiança: 95.0%\n",
            "Value at Risk (VaR): -3.50%\n",
            "Conditional Value at Risk (CVaR): -5.09%\n"
          ]
        }
      ]
    }
  ]
}