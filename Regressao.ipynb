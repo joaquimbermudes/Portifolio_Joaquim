{
  "nbformat": 4,
  "nbformat_minor": 0,
  "metadata": {
    "colab": {
      "provenance": []
    },
    "kernelspec": {
      "name": "python3",
      "display_name": "Python 3"
    },
    "language_info": {
      "name": "python"
    }
  },
  "cells": [
    {
      "cell_type": "markdown",
      "source": [
        "# **Regressão**"
      ],
      "metadata": {
        "id": "l_nqsUyCmwUH"
      }
    },
    {
      "cell_type": "code",
      "execution_count": 1,
      "metadata": {
        "id": "dbnLzMnoiQNS"
      },
      "outputs": [],
      "source": [
        "# Importando pacotes\n",
        "import numpy as np\n",
        "import matplotlib.pyplot as plt"
      ]
    },
    {
      "cell_type": "markdown",
      "source": [
        "A regressão linear é uma técnica usada para modelar a relação entre uma variável dependente contínua $y$ e uma ou mais variáveis independentes $X$. O modelo assume que $y$ pode ser descrito como uma combinação linear das variáveis independentes:\n",
        "\n",
        "$$\n",
        "    y = \\beta_0 + \\beta_1 x_1 + \\beta_2 x_2 + \\cdots + \\beta_n x_n + \\epsilon,\n",
        "$$\n",
        "\n",
        "onde:\n",
        "* $\\beta_0$ é o intercepto do modelo;\n",
        "* $\\beta_1, \\beta_2, \\ldots, \\beta_n$ são os coeficientes que determinam a contribuição de cada variável independente $x_i$;\n",
        "* $\\epsilon$ é o termo de erro, que captura as variações não explicadas pelo modelo.\n",
        "\n",
        "A regressão linear é usada principalmente para prever valores contínuos, como preços de casas ou temperaturas.\n"
      ],
      "metadata": {
        "id": "inNuwAvWnacA"
      }
    },
    {
      "cell_type": "code",
      "source": [
        "# Gerando as variáveis explicativas X_1  e X_2\n",
        "X_1 = np.random.normal(6, 10, 200)\n",
        "X_2 = np.random.normal(0, 8, 200)\n",
        "\n",
        "# Gerando a variável explicada y\n",
        "y = 5 + 0.9 * X_1 - 2 * X_2 + np.random.normal(0, 1, 200)\n",
        "\n",
        "# Concatenando X_1 e X_2 em uma matrix\n",
        "X = np.column_stack((X_1, X_2))\n",
        "\n",
        "# Plotando as relações entre y e X_1, e y e X_2\n",
        "f, (ax1, ax2) = plt.subplots(1, 2, sharey=True)\n",
        "ax1.scatter(X_1, y)\n",
        "ax2.scatter(X_2, y)"
      ],
      "metadata": {
        "colab": {
          "base_uri": "https://localhost:8080/",
          "height": 447
        },
        "id": "RNXD015xid67",
        "outputId": "aa59cdbc-6699-489e-fda2-d68da091947e"
      },
      "execution_count": 2,
      "outputs": [
        {
          "output_type": "execute_result",
          "data": {
            "text/plain": [
              "<matplotlib.collections.PathCollection at 0x7db32ddd3290>"
            ]
          },
          "metadata": {},
          "execution_count": 2
        },
        {
          "output_type": "display_data",
          "data": {
            "text/plain": [
              "<Figure size 640x480 with 2 Axes>"
            ],
            "image/png": "[encoded data removed]"
          },
          "metadata": {}
        }
      ]
    },
    {
      "cell_type": "code",
      "source": [
        "# Função auxiliar para adicionar a constante\n",
        "def add_bias(X):\n",
        "    return np.c_[np.ones(X.shape[0]), X]"
      ],
      "metadata": {
        "id": "DSf8CGBKkUxm"
      },
      "execution_count": 3,
      "outputs": []
    },
    {
      "cell_type": "markdown",
      "source": [
        "A função de perda para a regressão por mínimos quadrados mede a soma dos erros quadrados entre os valores previstos $\\hat{y}$ e os valores reais $y$:\n",
        "\n",
        "$$\n",
        "    L(\\beta) = \\sum_{i=1}^n \\left( y_i - \\hat{y}_i \\right)^2 = \\sum_{i=1}^n \\left( y_i - \\left( \\beta_0 + \\beta_1 x_{i1} + \\cdots + \\beta_p x_{ip} \\right) \\right)^2.\n",
        "$$\n"
      ],
      "metadata": {
        "id": "QN9IOCaQpDss"
      }
    },
    {
      "cell_type": "code",
      "source": [
        "# Regressão Linear por Mínimos Quadrados\n",
        "def linear_regression(X, y):\n",
        "    X = add_bias(X)  # Adiciona o termo de viés (intercepto)\n",
        "    weights = np.linalg.inv(X.T @ X) @ X.T @ y\n",
        "    return weights\n",
        "\n",
        "beta = linear_regression(X, y)\n",
        "print(\"y = \", beta[0], \" + \", beta[1], \"x_1 + \", beta[2], \"x_2\")"
      ],
      "metadata": {
        "colab": {
          "base_uri": "https://localhost:8080/"
        },
        "id": "eg0Tn0UJkkxV",
        "outputId": "0455cc25-7a6a-4947-c628-b301d0953260"
      },
      "execution_count": 4,
      "outputs": [
        {
          "output_type": "stream",
          "name": "stdout",
          "text": [
            "y =  4.980981163801385  +  0.9012723184454349 x_1 +  -2.005268868906874 x_2\n"
          ]
        }
      ]
    },
    {
      "cell_type": "markdown",
      "source": [
        "A função de perda para a regressão Ridge adiciona um termo de regularização à perda de mínimos quadrados. Este termo penaliza grandes valores dos coeficientes $\\beta$ para reduzir o overfitting:\n",
        "\n",
        "$$\n",
        "    L(\\beta) = \\sum_{i=1}^n \\left( y_i - \\hat{y}_i \\right)^2 + \\lambda \\sum_{j=1}^p \\beta_j^2,\n",
        "$$"
      ],
      "metadata": {
        "id": "uGVwu7vIpKYe"
      }
    },
    {
      "cell_type": "code",
      "source": [
        "# Regressão Ridge\n",
        "def ridge_regression(X, y, alpha):\n",
        "    X = add_bias(X)\n",
        "    I = np.eye(X.shape[1])\n",
        "    I[0, 0] = 0  # Não regulariza o termo de bias\n",
        "    weights = np.linalg.inv(X.T @ X + alpha * I) @ X.T @ y\n",
        "    return weights\n",
        "\n",
        "beta = ridge_regression(X, y, 10e4)\n",
        "print(\"y = \", beta[0], \" + \", beta[1], \"x_1 + \", beta[2], \"x_2\")"
      ],
      "metadata": {
        "colab": {
          "base_uri": "https://localhost:8080/"
        },
        "id": "kDXxJteGk_If",
        "outputId": "1e8711e7-e40d-41bf-834e-46a45abb0d4e"
      },
      "execution_count": 5,
      "outputs": [
        {
          "output_type": "stream",
          "name": "stdout",
          "text": [
            "y =  10.594342020487902  +  0.12009187064803525 x_1 +  -0.22928397093431782 x_2\n"
          ]
        }
      ]
    },
    {
      "cell_type": "markdown",
      "source": [
        "A regressão logística, por outro lado, é usada quando a variável dependente $y$ é categórica, frequentemente representando dois estados, como \"sucesso\" ou \"falha\" (isto é, problemas de classificação binária). A fórmula básica do modelo é dada pela função sigmoide:\n",
        "\n",
        "$$\n",
        "    P(y=1|X) = \\frac{1}{1 + e^{-z}},\n",
        "$$\n",
        "\n",
        "onde $z$ é uma combinação linear das variáveis independentes:\n",
        "\n",
        "$$\n",
        "    z = \\beta_0 + \\beta_1 x_1 + \\beta_2 x_2 + \\cdots + \\beta_n x_n.\n",
        "$$\n",
        "\n",
        "A saída do modelo é uma probabilidade $P(y=1|X)$, que pode ser interpretada como a confiança do modelo de que $y$ pertence à classe 1.\n",
        "\n",
        "A função de perda para a regressão logística é baseada na verossimilhança, usando a entropia cruzada para medir a discrepância entre as probabilidades previstas $\\hat{y}$ e as classes reais $y$:\n",
        "\n",
        "$$\n",
        "    L(\\beta) = -\\sum_{i=1}^n \\left[ y_i \\log(\\hat{y}_i) + (1 - y_i) \\log(1 - \\hat{y}_i) \\right],\n",
        "$$\n"
      ],
      "metadata": {
        "id": "nYw7_QshoYD9"
      }
    },
    {
      "cell_type": "code",
      "source": [
        "# Regressão Logística\n",
        "\n",
        "def sigmoid(z):\n",
        "    return 1 / (1 + np.exp(-z))\n",
        "\n",
        "def logistic_regression(X, y, iterations=1000, lr=0.01):\n",
        "    X = add_bias(X)\n",
        "    weights = np.zeros(X.shape[1])\n",
        "    for _ in range(iterations):\n",
        "        pred = sigmoid(X @ weights)\n",
        "        gradient = X.T @ (pred - y) / len(y)\n",
        "        weights -= lr * gradient\n",
        "    return weights\n",
        "\n",
        "y_2 = sigmoid(y)\n",
        "\n",
        "beta = logistic_regression(X, y_2)\n",
        "print(\"y = \", beta[0], \" + \", beta[1], \"x_1 + \", beta[2], \"x_2\")"
      ],
      "metadata": {
        "colab": {
          "base_uri": "https://localhost:8080/"
        },
        "id": "hF_jHE60lgpG",
        "outputId": "d85e1a4b-c0c0-4d23-cad7-ee742c4ed3c9"
      },
      "execution_count": 6,
      "outputs": [
        {
          "output_type": "stream",
          "name": "stdout",
          "text": [
            "y =  0.7946425370754961  +  0.3206391474820672 x_1 +  -0.6297419042628264 x_2\n"
          ]
        }
      ]
    }
  ]
}