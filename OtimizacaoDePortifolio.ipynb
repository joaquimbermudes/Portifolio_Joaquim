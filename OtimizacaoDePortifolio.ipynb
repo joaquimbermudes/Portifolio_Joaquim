{
  "nbformat": 4,
  "nbformat_minor": 0,
  "metadata": {
    "colab": {
      "provenance": []
    },
    "kernelspec": {
      "name": "python3",
      "display_name": "Python 3"
    },
    "language_info": {
      "name": "python"
    }
  },
  "cells": [
    {
      "cell_type": "markdown",
      "source": [
        "# **Otimização de Portifólio**"
      ],
      "metadata": {
        "id": "AbeNDnq7ei0I"
      }
    },
    {
      "cell_type": "code",
      "execution_count": 1,
      "metadata": {
        "id": "MGL0M4vKLD0n"
      },
      "outputs": [],
      "source": [
        "# Importando as bibliotecas\n",
        "import numpy as np\n",
        "import pandas as pd\n",
        "import matplotlib.pyplot as plt\n",
        "import yfinance as yf\n",
        "import cvxpy as cp"
      ]
    },
    {
      "cell_type": "code",
      "source": [
        "acoes = [\n",
        "    'AAPL',  # Apple\n",
        "    'MSFT',  # Microsoft\n",
        "    'GOOGL', # Alphabet (Google)\n",
        "    'AMZN',  # Amazon\n",
        "    'META',  # Meta (Facebook)\n",
        "    'JPM',   # JPMorgan Chase\n",
        "    'BAC',   # Bank of America\n",
        "    'XOM',   # Exxon Mobil\n",
        "    'CVX',   # Chevron\n",
        "    'V',     # Visa\n",
        "    'MA',    # Mastercard\n",
        "    'PG',    # Procter & Gamble\n",
        "    'KO',    # Coca-Cola\n",
        "    'PEP',   # PepsiCo\n",
        "    'DIS',   # Disney\n",
        "    'ADBE',  # Adobe\n",
        "    'ORCL'   # Oracle\n",
        "]\n",
        "\n",
        "# Definindo o período e o intervalo\n",
        "periodo = \"1y\"  # Último ano\n",
        "intervalo = \"1d\"  # Dados diários\n",
        "\n",
        "# Dicionário para armazenar os dados de cada ação\n",
        "dados_acoes = {}\n",
        "\n",
        "# Loop para baixar os dados de cada ação\n",
        "for acao in acoes:\n",
        "    try:\n",
        "        # Download dos dados históricos\n",
        "        dados = yf.download(acao, period=periodo, interval=intervalo)\n",
        "        dados_acoes[acao] = dados[\"Close\"]\n",
        "    except Exception as e:\n",
        "        print(f\"Erro ao baixar dados para {acao}: {e}\")\n",
        "\n",
        "# Convertendo os dados em um único DataFrame para análise\n",
        "historico_completo = pd.concat(dados_acoes, axis=1)\n",
        "\n",
        "# Encontrando o retorno diário em porcentagem\n",
        "historico_completo = historico_completo.diff()/historico_completo.shift(1)\n",
        "\n",
        "# Multiplicando o retorno por 100\n",
        "historico_completo = 100 * historico_completo\n",
        "\n",
        "# Retirando NAs\n",
        "historico_completo = historico_completo.dropna()\n",
        "\n",
        "# Encontrando média e variância\n",
        "media = np.mean(historico_completo, axis=0).values\n",
        "cov = np.cov(historico_completo.T)"
      ],
      "metadata": {
        "colab": {
          "base_uri": "https://localhost:8080/"
        },
        "id": "WD9NpkI5L3Zy",
        "outputId": "a9ef7e5e-adbd-4ac3-ba26-a787e9bed39b"
      },
      "execution_count": 2,
      "outputs": [
        {
          "output_type": "stream",
          "name": "stderr",
          "text": [
            "[*********************100%***********************]  1 of 1 completed\n",
            "[*********************100%***********************]  1 of 1 completed\n",
            "[*********************100%***********************]  1 of 1 completed\n",
            "[*********************100%***********************]  1 of 1 completed\n",
            "[*********************100%***********************]  1 of 1 completed\n",
            "[*********************100%***********************]  1 of 1 completed\n",
            "[*********************100%***********************]  1 of 1 completed\n",
            "[*********************100%***********************]  1 of 1 completed\n",
            "[*********************100%***********************]  1 of 1 completed\n",
            "[*********************100%***********************]  1 of 1 completed\n",
            "[*********************100%***********************]  1 of 1 completed\n",
            "[*********************100%***********************]  1 of 1 completed\n",
            "[*********************100%***********************]  1 of 1 completed\n",
            "[*********************100%***********************]  1 of 1 completed\n",
            "[*********************100%***********************]  1 of 1 completed\n",
            "[*********************100%***********************]  1 of 1 completed\n",
            "[*********************100%***********************]  1 of 1 completed\n"
          ]
        }
      ]
    },
    {
      "cell_type": "markdown",
      "source": [
        "## Problema deminimização de variância\n",
        "\n",
        "\\begin{aligned}\n",
        "\\text{Minimize:} \\quad & \\mathbf{w}^\\top \\Sigma \\mathbf{w} \\\\\\\\\n",
        "\\text{Subject to:} \\quad & \\mathbf{w}^\\top \\mathbf{1} = 1 \\\\\\\\\n",
        "& \\mathbf{w} \\geq 0 \\\\\\\\:\n",
        "\\end{aligned}"
      ],
      "metadata": {
        "id": "fURUmJsecP1P"
      }
    },
    {
      "cell_type": "code",
      "source": [
        "# Número de ativos\n",
        "n = len(media)\n",
        "\n",
        "# Variável de decisão: pesos do portfólio\n",
        "w = cp.Variable(n)\n",
        "\n",
        "# Função objetivo: minimizar o risco (variância do portfólio)\n",
        "risco = cp.quad_form(w, cov)  # w^T * cov * w\n",
        "objetivo = cp.Minimize(risco)\n",
        "\n",
        "# Restrição: os pesos devem somar 1\n",
        "soma_pesos = cp.sum(w) == 1\n",
        "\n",
        "# Restrição: os pesos devem ser não-negativos (opcional para portfólios long-only)\n",
        "pesos_nao_negativos = w >= 0\n",
        "\n",
        "# Configuração do problema de otimização\n",
        "problema = cp.Problem(objetivo, [soma_pesos, pesos_nao_negativos])\n",
        "\n",
        "# Resolver o problema\n",
        "problema.solve()\n",
        "\n",
        "# Resultados\n",
        "print(\"Status da solução:\", problema.status)\n",
        "print(\"Pesos ótimos do portfólio:\", w.value)\n",
        "print(\"Risco mínimo:\", risco.value)\n"
      ],
      "metadata": {
        "colab": {
          "base_uri": "https://localhost:8080/"
        },
        "id": "SKUobZY5PnRJ",
        "outputId": "d7408151-aa33-4528-fb70-f51377512fd6"
      },
      "execution_count": 3,
      "outputs": [
        {
          "output_type": "stream",
          "name": "stdout",
          "text": [
            "Status da solução: optimal\n",
            "Pesos ótimos do portfólio: [6.48592866e-02 8.12250148e-03 4.36428847e-02 1.97831272e-02\n",
            " 2.01980476e-02 2.83583183e-02 1.83006986e-23 1.09867802e-01\n",
            " 7.52368149e-02 1.91966820e-02 1.73987358e-02 2.46101787e-01\n",
            " 2.29396679e-01 3.07182279e-02 4.46693060e-02 8.54966372e-03\n",
            " 3.39001360e-02]\n",
            "Risco mínimo: 0.28335860028310045\n"
          ]
        }
      ]
    },
    {
      "cell_type": "markdown",
      "source": [
        "## Problema de minimização de variância sujeito à um retorno mínimo\n",
        "\n",
        "\\begin{aligned}\n",
        "\\text{Minimize:} \\quad & \\mathbf{w}^\\top \\Sigma \\mathbf{w} \\\\\\\\\n",
        "\\text{Subject to:} \\quad & \\mathbf{w}^\\top \\mathbf{1} = 1 \\\\\\\\\n",
        "& \\mathbf{w} \\geq 0 \\\\\\\\\n",
        "& \\mathbf{w}^\\top \\mathbf{\\mu} \\geq R_{\\text{min}}\n",
        "\\end{aligned}"
      ],
      "metadata": {
        "id": "KMaMck_Ocjf0"
      }
    },
    {
      "cell_type": "code",
      "source": [
        "# Número de ativos\n",
        "n = len(media)\n",
        "\n",
        "# Variável de decisão: pesos do portfólio\n",
        "w = cp.Variable(n)\n",
        "\n",
        "# Função objetivo: minimizar o risco (variância do portfólio)\n",
        "risco = cp.quad_form(w, cov)  # w^T * cov * w\n",
        "objetivo = cp.Minimize(risco)\n",
        "\n",
        "# Restrição: os pesos devem somar 1\n",
        "soma_pesos = cp.sum(w) == 1\n",
        "\n",
        "# Restrição: os pesos devem ser não-negativos (opcional para portfólios long-only)\n",
        "pesos_nao_negativos = w >= 0\n",
        "\n",
        "# Restrição: o retorno esperado do portfólio deve ser pelo menos 1.2^(1/250)\n",
        "retorno_minimo = cp.sum(cp.multiply(media, w)) >= 100*(1.3**(1/250)-1)\n",
        "\n",
        "# Configuração do problema de otimização\n",
        "problema = cp.Problem(objetivo, [soma_pesos, pesos_nao_negativos, retorno_minimo])\n",
        "\n",
        "# Resolver o problema\n",
        "problema.solve()\n",
        "\n",
        "# Resultados\n",
        "print(\"Status da solução:\", problema.status)\n",
        "print(\"Pesos ótimos do portfólio:\", w.value)\n",
        "print(\"Risco mínimo:\", risco.value)"
      ],
      "metadata": {
        "colab": {
          "base_uri": "https://localhost:8080/"
        },
        "id": "KxoeG8daT82u",
        "outputId": "04e148e0-4767-4b45-8e48-2c1f67ac67c8"
      },
      "execution_count": 4,
      "outputs": [
        {
          "output_type": "stream",
          "name": "stdout",
          "text": [
            "Status da solução: optimal\n",
            "Pesos ótimos do portfólio: [ 4.49777466e-02 -7.62329432e-23  4.17482557e-02  1.55298923e-02\n",
            "  8.00125103e-02  1.84798736e-01  1.27159854e-24  9.73853375e-02\n",
            " -4.07313421e-23 -4.04703359e-23  6.76724461e-04  2.11191387e-01\n",
            "  2.00758940e-01 -9.16866162e-23  3.44655864e-02 -1.02826608e-22\n",
            "  8.84548842e-02]\n",
            "Risco mínimo: 0.3732297542071406\n"
          ]
        }
      ]
    },
    {
      "cell_type": "markdown",
      "source": [
        "## Problema de Maximização de retorno sujeito à uma variância máxima\n",
        "\n",
        "\\begin{aligned}\n",
        "\\text{Maximize:} \\quad & \\mathbf{w}^\\top \\mathbf{\\mu} \\\\\\\\\n",
        "\\text{Subject to:} \\quad & \\mathbf{w}^\\top \\mathbf{1} = 1 \\\\\\\\\n",
        "& \\mathbf{w} \\geq 0 \\\\\\\\\n",
        "& \\mathbf{w}^\\top \\Sigma \\mathbf{w} \\leq \\sigma_{\\text{max}}^2\n",
        "\\end{aligned}"
      ],
      "metadata": {
        "id": "cpoY6NgXcpAc"
      }
    },
    {
      "cell_type": "code",
      "source": [
        "# Número de ativos\n",
        "n = len(media)\n",
        "\n",
        "# Variável de decisão: pesos do portfólio\n",
        "w = cp.Variable(n)\n",
        "\n",
        "# Função objetivo: maximizar o retorno esperado do portfólio\n",
        "retorno_esperado = cp.sum(cp.multiply(media, w))\n",
        "objetivo = cp.Maximize(retorno_esperado)\n",
        "\n",
        "# Restrição: os pesos devem somar 1\n",
        "soma_pesos = cp.sum(w) == 1\n",
        "\n",
        "# Restrição: os pesos devem ser não-negativos (opcional para portfólios long-only)\n",
        "pesos_nao_negativos = w >= 0\n",
        "\n",
        "# Restrição: a variância do portfólio deve ser menor ou igual a um limite máximo\n",
        "variancia_maxima = 0.30  # Substitua pelo valor desejado\n",
        "restricao_variancia = cp.quad_form(w, cov) <= variancia_maxima\n",
        "\n",
        "# Configuração do problema de otimização\n",
        "problema = cp.Problem(objetivo, [soma_pesos, pesos_nao_negativos, restricao_variancia])\n",
        "\n",
        "# Resolver o problema\n",
        "problema.solve()\n",
        "\n",
        "# Resultados\n",
        "print(\"Status da solução:\", problema.status)\n",
        "print(\"Pesos ótimos do portfólio:\", w.value)\n",
        "print(\"Retorno máximo:\", retorno_esperado.value)\n"
      ],
      "metadata": {
        "colab": {
          "base_uri": "https://localhost:8080/"
        },
        "id": "y0FukLQFXbrn",
        "outputId": "3ed56425-7524-4242-d1ee-ac32782244da"
      },
      "execution_count": 5,
      "outputs": [
        {
          "output_type": "stream",
          "name": "stdout",
          "text": [
            "Status da solução: optimal\n",
            "Pesos ótimos do portfólio: [5.79802596e-02 3.09816593e-09 4.44538129e-02 2.10670733e-02\n",
            " 4.51205310e-02 9.34291241e-02 5.01229167e-08 1.11407285e-01\n",
            " 3.73285994e-02 7.94333700e-03 1.49711434e-02 2.36071977e-01\n",
            " 2.30295287e-01 7.88683018e-10 4.12858903e-02 6.74185100e-10\n",
            " 5.86456258e-02]\n",
            "Retorno máximo: 0.08205385187696483\n"
          ]
        }
      ]
    }
  ]
}